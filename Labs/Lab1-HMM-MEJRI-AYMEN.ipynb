{
 "cells": [
  {
   "cell_type": "markdown",
   "metadata": {},
   "source": [
    "<center><h1> TP 1 : HMM</h1></center>\n",
    "\n",
    "<h3>DONE BY : MEJRI AYMEN</h3>"
   ]
  },
  {
   "cell_type": "markdown",
   "metadata": {},
   "source": [
    "## Question 0:"
   ]
  },
  {
   "cell_type": "markdown",
   "metadata": {},
   "source": [
    "We have : $v_i<0 $  $\\forall i \\in \\{1..l\\} $ </br> Let $V_{max}= max_i(v_i)$ so :\n",
    "$\\sum_{i=1}^{L} \\exp{v_i} =\\log(\\sum_{i=1}^{L} \\exp({v_i+v_{max}-v_{max}}))$\n",
    "\n",
    "\n",
    "$\\sum_{i=1}^{L} \\exp{v_i} =\\log(\\sum_{i=1}^{L} \\exp({v_i-v_{max}})\\exp(v_{max}))$\n",
    "\n",
    "so : $$\\sum_{i=1}^{L} \\exp{v_i} =v_{max}+\\log(\\sum_{i=1}^{L} \\exp({v_i-v_{max}}))$$\n",
    "\n",
    "Let $V_{i_0}=V_{max}$, then:\n",
    "$$\\sum_{i=1}^{L} \\exp{v_i} =v_{max}+\\log(1+\\sum_{i=1,i\\ne i_0}^{L} \\exp({v_i-v_{max}}))$$\n",
    "\n",
    "we can see that:  $1+\\sum_{i=1,i\\ne i_0}^{L} \\exp({v_i-v_{max}}) > 1$\n",
    "then : $\\sum_{i=1}^{L} \\exp{v_i}>V_{max}$ and that's why it should work."
   ]
  },
  {
   "cell_type": "code",
   "execution_count": 2,
   "metadata": {},
   "outputs": [],
   "source": [
    "import numpy as np\n",
    "import networkx as nx\n",
    "import matplotlib.pyplot as plt\n",
    "import matplotlib\n",
    "matplotlib.style.use('ggplot')"
   ]
  },
  {
   "cell_type": "code",
   "execution_count": 3,
   "metadata": {},
   "outputs": [],
   "source": [
    "def log_sum_exp(v_i):\n",
    "    \"\"\"\n",
    "    v_i : a vector of v_i values\n",
    "    \"\"\"\n",
    "    v_max=np.max(v_i)\n",
    "    return v_max+np.log(np.sum(np.exp(v_i-v_max)))"
   ]
  },
  {
   "cell_type": "code",
   "execution_count": 4,
   "metadata": {},
   "outputs": [
    {
     "data": {
      "text/plain": [
       "-1233.6867383124818"
      ]
     },
     "execution_count": 4,
     "metadata": {},
     "output_type": "execute_result"
    }
   ],
   "source": [
    "v_i=[-1234,-1235]\n",
    "log_sum_exp(v_i)"
   ]
  },
  {
   "cell_type": "code",
   "execution_count": 5,
   "metadata": {},
   "outputs": [
    {
     "name": "stderr",
     "output_type": "stream",
     "text": [
      "C:\\Users\\mejri aymen\\Anaconda33\\lib\\site-packages\\ipykernel_launcher.py:1: RuntimeWarning: divide by zero encountered in log\n",
      "  \"\"\"Entry point for launching an IPython kernel.\n"
     ]
    },
    {
     "data": {
      "text/plain": [
       "-inf"
      ]
     },
     "execution_count": 5,
     "metadata": {},
     "output_type": "execute_result"
    }
   ],
   "source": [
    "np.log(np.sum(np.exp(v_i)))"
   ]
  },
  {
   "cell_type": "markdown",
   "metadata": {},
   "source": [
    "We can see that with applying the classical function we obtain $-\\infty$ which is wrong."
   ]
  },
  {
   "cell_type": "markdown",
   "metadata": {},
   "source": [
    "## Question 1 :"
   ]
  },
  {
   "cell_type": "markdown",
   "metadata": {},
   "source": [
    "#### 1)  Choose the appropriate random variables, define their domains, write down the generative model and draw the associated directed graphical model."
   ]
  },
  {
   "cell_type": "markdown",
   "metadata": {},
   "source": [
    "Let $X_i$ be the latent state (the true position) and $Y_i$ the observation $\\forall i \\in \\{1..K\\}$\n",
    "<br>We have :</br>\n",
    "<br>For $X_i \\in \\{1..N\\}$ : $ X_i \\sim p(X_i|X_{i-1})$ (Transition model)</br>\n",
    "<br>For $Y_i \\in \\{1..N\\}$ : $ Y_i \\sim p(Y_i|X_{i})$ (Observation model)</br>\n",
    "\n"
   ]
  },
  {
   "cell_type": "code",
   "execution_count": 6,
   "metadata": {},
   "outputs": [
    {
     "data": {
      "image/png": "[encoded data removed]",
      "text/plain": [
       "<Figure size 864x180 with 1 Axes>"
      ]
     },
     "metadata": {},
     "output_type": "display_data"
    }
   ],
   "source": [
    "def makeDBN(inter, intra, T, labels):\n",
    "    \"\"\"Unfold a graph for T time slices\"\"\"\n",
    "    N = max(max([i for i,j in inter]),max([j for i,j in inter]))+1\n",
    "\n",
    "    G = np.zeros((N*T,N*T))\n",
    "    pos = []\n",
    "    all_labels = []\n",
    "    for n in range(N):\n",
    "        pos.append((0,-n))\n",
    "        all_labels.append('$'+labels[n]+'_{'+str(0+1)+\"}\"+'$')\n",
    "        \n",
    "    for e in inter:\n",
    "        s,d = e\n",
    "        G[s,d] = 1\n",
    "\n",
    "    for t in range(1,T):\n",
    "        for n in range(N):\n",
    "            pos.append((t,-n))\n",
    "            all_labels.append('$'+labels[n]+'_{'+str(t+1)+\"}\"+'$')\n",
    "\n",
    "        for e in inter:\n",
    "            s,d = e\n",
    "            s = s + N*t\n",
    "            d = d + N*t\n",
    "            G[s,d] = 1\n",
    "        \n",
    "        for e in intra:\n",
    "            s,d = e\n",
    "            s = s + N*(t-1)\n",
    "            d = d + N*t\n",
    "            G[s,d] = 1\n",
    "    return G,pos,all_labels\n",
    "\n",
    "#inter = [(0,1),(1,2),(2,3)]\n",
    "#intra = [(0,0),(1,1),(0,1),(0,2)]\n",
    "#variable_names = [\"r\",\"z\",\"x\", \"y\"] \n",
    "inter = [(0,1)]\n",
    "intra = [(0,0)]\n",
    "variable_names = [\"x\", \"y\"] \n",
    "T = 5\n",
    "\n",
    "A, pos, label_list = makeDBN(inter, intra, T, variable_names)\n",
    "\n",
    "G = nx.DiGraph(A)\n",
    "labels = {i: s for i,s in enumerate(label_list)}\n",
    "plt.figure(figsize=(12,2.5))\n",
    "nx.draw(G, pos, node_color=\"white\", node_size=2500, labels=labels, font_size=24, arrows=True)\n",
    "#nx.draw_graphviz(G,node_size=500, labels=labels, font_size=24, arrows=True)\n",
    "plt.show()"
   ]
  },
  {
   "cell_type": "markdown",
   "metadata": {},
   "source": [
    "### 2) Define the conditional probability tables (i.e., the transition model and the observation model) given the verbal description above."
   ]
  },
  {
   "cell_type": "markdown",
   "metadata": {},
   "source": [
    "The initial position of the robot is unknown and assumed to be uniformly distributed. Let U be the initial vector . so : </br> \n",
    "$U=\\frac{1}{N}[1...1]$ with N the number of possible locations."
   ]
  },
  {
   "cell_type": "markdown",
   "metadata": {},
   "source": [
    "#### State transition model :"
   ]
  },
  {
   "cell_type": "markdown",
   "metadata": {},
   "source": [
    "It's the matrix that represent the probability of $X_t|X_{t-1}$ : $ p(X_t|X_{t-1})$\n",
    "$$A = \\quad\n",
    "\\begin{bmatrix} \n",
    "\\epsilon & 1-\\epsilon & 0 & . & . & . & 0 \\\\\n",
    "0 & \\epsilon & 1-\\epsilon & . & . & . & 0 \\\\\n",
    "0 & 0 & \\epsilon & 1-\\epsilon & . & . & 0 \\\\\n",
    "0 & 0 & 0 & \\epsilon  & . & . & 0\\\\\n",
    ". & . &.&.&.&.&.\\\\\n",
    ". & . &.&.&.&.&.\\\\\n",
    ". & . &.&.&.&.&1-\\epsilon\\\\\n",
    "1-\\epsilon & . &.&.&0 & 0&\\epsilon\n",
    "\\end{bmatrix}$$\n",
    "Where $\\epsilon$ is the probability that the robot stays where it is.\n",
    "\n",
    "$\\forall i,j \\in \\{1..N\\}$ $  p(X_t=i|X_{t-1}=j)=A_{i,j}$"
   ]
  },
  {
   "cell_type": "markdown",
   "metadata": {},
   "source": [
    "**State observation model:**"
   ]
  },
  {
   "cell_type": "markdown",
   "metadata": {},
   "source": [
    "It's the matrix that shows the probability of $Y_t|X_t$ : $ p(Y_t|X_{t})$\n",
    "$$O = \\quad\n",
    "\\begin{bmatrix} \n",
    "\\omega + \\frac{(1-\\omega)}{N}& \\frac{(1-\\omega)}{N} & . & . & . & . & \\frac{(1-\\omega)}{N} \\\\\n",
    "\\frac{(1-\\omega)}{N}& \\omega +\\frac{(1-\\omega)}{N}& \\frac{(1-\\omega)}{N} & . & . & . & \\frac{(1-\\omega)}{N} \\\\\n",
    "\\frac{(1-\\omega)}{N}& \\frac{(1-\\omega)}{N} & \\omega+\\frac{(1-\\omega)}{N} & \\frac{(1-\\omega)}{N}& . & . & \\frac{(1-\\omega)}{N} \\\\\n",
    "\\frac{(1-\\omega)}{N} & . &\\frac{(1-\\omega)}{N} & \\omega +\\frac{(1-\\omega)}{N} & \\frac{(1-\\omega)}{N} & . & \\frac{(1-\\omega)}{N}\\\\\n",
    ". & . &.&.&.&.&.\\\\\n",
    ". & . &.&.&.&.&.\\\\\n",
    ". & . &.&.&.&.&.\\\\\n",
    "\\frac{(1-\\omega)}{N}& . &.&.&\\frac{(1-\\omega)}{N}&\\frac{(1-\\omega)}{N}&\\omega+\\frac{(1-\\omega)}{N}\n",
    "\\end{bmatrix}$$\n",
    "Where $\\omega$ is the probability that the robot observes its true position."
   ]
  },
  {
   "cell_type": "markdown",
   "metadata": {},
   "source": [
    "### 3) Specify the following verbal statements in terms of posterior quantities using mathematical notation."
   ]
  },
  {
   "cell_type": "markdown",
   "metadata": {},
   "source": [
    "**a)Distribution of the robot's current position given the observations so far**\n",
    "\n",
    "$p(X_k|Y_{1..k})$ \n",
    "\n",
    "\n",
    "**b)Distribution of the robot's position at time step k given all the observations** \n",
    "\n",
    "$p(X_k|Y_{1..K})$ \n",
    "\n",
    "**c)Distribution of the robot's next position given the observations so far** \n",
    "\n",
    "$p(X_{k+1}|Y_{1..k})$ \n",
    "\n",
    "**d)Distribution of the robot's next sensor reading given the observations so far**\n",
    "\n",
    "$p(Y_{k+1}|Y_{1..k})$ \n",
    "\n",
    "**e)Distribution of the robot's initial position given observations so far** \n",
    "\n",
    "$p(X_1|Y_{1..k})$ \n",
    "\n",
    "**f)Most likely current position of the robot given the observations so far** \n",
    "\n",
    "$argmax_{X_k}(p(X_k|Y_{1..k}))$ \n",
    "\n",
    "**g)Most likely trajectory taken by the robot from the start until now given the observations so far.** \n",
    "\n",
    "$argmax_{X_{1..k}}(p(X_{1..k}|Y_{1..k}))$ \n",
    "\n"
   ]
  },
  {
   "cell_type": "markdown",
   "metadata": {},
   "source": [
    "### 4) Implement a program that simulates this scenario; i.e., generates realizations from the movements of the robot and the associated sensor readings. Simulate a scenario for k = 1,...,100 with N = 50, $\\epsilon$ = 0.3, $\\omega$ = 0.8"
   ]
  },
  {
   "cell_type": "code",
   "execution_count": 7,
   "metadata": {},
   "outputs": [],
   "source": [
    "N=50\n",
    "K=100\n",
    "epsilon=0.3\n",
    "w=0.8"
   ]
  },
  {
   "cell_type": "code",
   "execution_count": 8,
   "metadata": {},
   "outputs": [],
   "source": [
    "def generate_matrix(N,epsilon=0.3,w=0.8):\n",
    "    Trans_matrix=epsilon*np.eye(N)\n",
    "    for i in range(N-1):\n",
    "        Trans_matrix[i,i+1]=1-epsilon\n",
    "    Trans_matrix[N-1,0]=1-epsilon\n",
    "    Obsmatrix=w*np.eye(N)+np.ones(N)*((1-w)/float(N))\n",
    "\n",
    "    prior=np.ones(N)/N\n",
    "    return Trans_matrix,Obsmatrix,prior\n"
   ]
  },
  {
   "cell_type": "code",
   "execution_count": 9,
   "metadata": {},
   "outputs": [],
   "source": [
    "Trans_matrix,Obsmatrix,prior=generate_matrix(N=N,epsilon=epsilon,w=w)"
   ]
  },
  {
   "cell_type": "code",
   "execution_count": 10,
   "metadata": {},
   "outputs": [],
   "source": [
    "def hmm_generate_data(K,N,epsilon,w,Trans_matrix,Obsmatrix,prior):\n",
    "    state=np.zeros(K,dtype=int)\n",
    "    obs=np.zeros(K)\n",
    "    for k in range(K):\n",
    "        if k==0:\n",
    "            state[k]=int(np.random.choice(np.arange(0, N), p=prior))\n",
    "        else:\n",
    "            state[k]=np.random.choice(np.arange(0, N), p=Trans_matrix[:,state[k-1]])\n",
    "        obs[k]=np.random.choice(np.arange(0, N), p=Obsmatrix[:,state[k]])\n",
    "    return obs,state"
   ]
  },
  {
   "cell_type": "code",
   "execution_count": 11,
   "metadata": {},
   "outputs": [],
   "source": [
    "obs,state = hmm_generate_data(100,N,0.5,0.3,Trans_matrix,Obsmatrix,prior)"
   ]
  },
  {
   "cell_type": "code",
   "execution_count": 12,
   "metadata": {},
   "outputs": [
    {
     "data": {
      "image/png": "[encoded data removed]",
      "text/plain": [
       "<Figure size 1080x720 with 1 Axes>"
      ]
     },
     "metadata": {
      "needs_background": "light"
     },
     "output_type": "display_data"
    }
   ],
   "source": [
    "fig = plt.figure(1, figsize=(15, 10))\n",
    "plt.scatter(np.arange(100),obs,label='Observation',s=10,marker='o')\n",
    "plt.scatter(np.arange(100),state,label='State',marker='.',s=20)\n",
    "plt.legend()\n",
    "plt.xlabel(\"Time\")\n",
    "plt.ylabel(\"Position\")\n",
    "plt.legend()\n",
    "plt.show()"
   ]
  },
  {
   "cell_type": "markdown",
   "metadata": {},
   "source": [
    "**Simulation :**"
   ]
  },
  {
   "cell_type": "code",
   "execution_count": 13,
   "metadata": {},
   "outputs": [
    {
     "name": "stdout",
     "output_type": "stream",
     "text": [
      "At step 0(true position[0],observed position[0])= (19,19)\n",
      "At step 1(true position[1],observed position[1])= (18,18)\n",
      "At step 2(true position[2],observed position[2])= (17,17)\n",
      "At step 3(true position[3],observed position[3])= (17,17)\n",
      "At step 4(true position[4],observed position[4])= (17,35)\n",
      "At step 5(true position[5],observed position[5])= (16,16)\n",
      "At step 6(true position[6],observed position[6])= (16,16)\n",
      "At step 7(true position[7],observed position[7])= (16,16)\n",
      "At step 8(true position[8],observed position[8])= (16,16)\n",
      "At step 9(true position[9],observed position[9])= (15,15)\n",
      "At step 10(true position[10],observed position[10])= (14,14)\n",
      "At step 11(true position[11],observed position[11])= (13,13)\n",
      "At step 12(true position[12],observed position[12])= (12,12)\n",
      "At step 13(true position[13],observed position[13])= (12,12)\n",
      "At step 14(true position[14],observed position[14])= (11,11)\n",
      "At step 15(true position[15],observed position[15])= (11,10)\n",
      "At step 16(true position[16],observed position[16])= (10,10)\n",
      "At step 17(true position[17],observed position[17])= (9,9)\n",
      "At step 18(true position[18],observed position[18])= (8,28)\n",
      "At step 19(true position[19],observed position[19])= (7,7)\n",
      "At step 20(true position[20],observed position[20])= (6,6)\n",
      "At step 21(true position[21],observed position[21])= (5,5)\n",
      "At step 22(true position[22],observed position[22])= (4,4)\n",
      "At step 23(true position[23],observed position[23])= (3,3)\n",
      "At step 24(true position[24],observed position[24])= (3,3)\n",
      "At step 25(true position[25],observed position[25])= (3,3)\n",
      "At step 26(true position[26],observed position[26])= (2,2)\n",
      "At step 27(true position[27],observed position[27])= (1,20)\n",
      "At step 28(true position[28],observed position[28])= (0,0)\n",
      "At step 29(true position[29],observed position[29])= (0,0)\n",
      "At step 30(true position[30],observed position[30])= (49,49)\n",
      "At step 31(true position[31],observed position[31])= (48,48)\n",
      "At step 32(true position[32],observed position[32])= (47,47)\n",
      "At step 33(true position[33],observed position[33])= (46,35)\n",
      "At step 34(true position[34],observed position[34])= (45,5)\n",
      "At step 35(true position[35],observed position[35])= (45,48)\n",
      "At step 36(true position[36],observed position[36])= (44,44)\n",
      "At step 37(true position[37],observed position[37])= (43,43)\n",
      "At step 38(true position[38],observed position[38])= (43,2)\n",
      "At step 39(true position[39],observed position[39])= (42,42)\n",
      "At step 40(true position[40],observed position[40])= (41,41)\n",
      "At step 41(true position[41],observed position[41])= (40,40)\n",
      "At step 42(true position[42],observed position[42])= (40,40)\n",
      "At step 43(true position[43],observed position[43])= (40,37)\n",
      "At step 44(true position[44],observed position[44])= (39,39)\n",
      "At step 45(true position[45],observed position[45])= (38,38)\n",
      "At step 46(true position[46],observed position[46])= (38,13)\n",
      "At step 47(true position[47],observed position[47])= (37,19)\n",
      "At step 48(true position[48],observed position[48])= (36,36)\n",
      "At step 49(true position[49],observed position[49])= (35,11)\n",
      "At step 50(true position[50],observed position[50])= (35,9)\n",
      "At step 51(true position[51],observed position[51])= (35,35)\n",
      "At step 52(true position[52],observed position[52])= (34,34)\n",
      "At step 53(true position[53],observed position[53])= (33,33)\n",
      "At step 54(true position[54],observed position[54])= (33,33)\n",
      "At step 55(true position[55],observed position[55])= (33,33)\n",
      "At step 56(true position[56],observed position[56])= (32,32)\n",
      "At step 57(true position[57],observed position[57])= (32,32)\n",
      "At step 58(true position[58],observed position[58])= (31,31)\n",
      "At step 59(true position[59],observed position[59])= (30,30)\n",
      "At step 60(true position[60],observed position[60])= (30,30)\n",
      "At step 61(true position[61],observed position[61])= (29,29)\n",
      "At step 62(true position[62],observed position[62])= (29,29)\n",
      "At step 63(true position[63],observed position[63])= (29,29)\n",
      "At step 64(true position[64],observed position[64])= (29,29)\n",
      "At step 65(true position[65],observed position[65])= (28,28)\n",
      "At step 66(true position[66],observed position[66])= (27,27)\n",
      "At step 67(true position[67],observed position[67])= (26,26)\n",
      "At step 68(true position[68],observed position[68])= (26,26)\n",
      "At step 69(true position[69],observed position[69])= (25,25)\n",
      "At step 70(true position[70],observed position[70])= (24,24)\n",
      "At step 71(true position[71],observed position[71])= (23,1)\n",
      "At step 72(true position[72],observed position[72])= (22,22)\n",
      "At step 73(true position[73],observed position[73])= (21,21)\n",
      "At step 74(true position[74],observed position[74])= (20,20)\n",
      "At step 75(true position[75],observed position[75])= (19,19)\n",
      "At step 76(true position[76],observed position[76])= (19,19)\n",
      "At step 77(true position[77],observed position[77])= (18,18)\n",
      "At step 78(true position[78],observed position[78])= (18,18)\n",
      "At step 79(true position[79],observed position[79])= (17,17)\n",
      "At step 80(true position[80],observed position[80])= (17,17)\n",
      "At step 81(true position[81],observed position[81])= (16,16)\n",
      "At step 82(true position[82],observed position[82])= (16,16)\n",
      "At step 83(true position[83],observed position[83])= (16,16)\n",
      "At step 84(true position[84],observed position[84])= (15,15)\n",
      "At step 85(true position[85],observed position[85])= (15,15)\n",
      "At step 86(true position[86],observed position[86])= (14,32)\n",
      "At step 87(true position[87],observed position[87])= (13,5)\n",
      "At step 88(true position[88],observed position[88])= (12,12)\n",
      "At step 89(true position[89],observed position[89])= (11,33)\n",
      "At step 90(true position[90],observed position[90])= (10,10)\n",
      "At step 91(true position[91],observed position[91])= (9,27)\n",
      "At step 92(true position[92],observed position[92])= (8,8)\n",
      "At step 93(true position[93],observed position[93])= (7,7)\n",
      "At step 94(true position[94],observed position[94])= (7,7)\n",
      "At step 95(true position[95],observed position[95])= (6,6)\n",
      "At step 96(true position[96],observed position[96])= (5,5)\n",
      "At step 97(true position[97],observed position[97])= (5,5)\n",
      "At step 98(true position[98],observed position[98])= (5,5)\n",
      "At step 99(true position[99],observed position[99])= (4,21)\n"
     ]
    }
   ],
   "source": [
    "for i in range(K):\n",
    "    print(\"At step \"+str(i)+\"(true position[\"+str(i)+\"],observed position[\"+str(i)+\"])= (\"+str(state[i])+\",\"+str(int(obs[i]))+\")\")"
   ]
  },
  {
   "cell_type": "markdown",
   "metadata": {},
   "source": [
    "## Question 5 : "
   ]
  },
  {
   "cell_type": "code",
   "execution_count": 14,
   "metadata": {},
   "outputs": [],
   "source": [
    "def state_predict(A,log_p):\n",
    "    mx = np.max(log_p)\n",
    "    p = np.exp(log_p - mx)\n",
    "    lpp = np.log(A.dot(p)) + mx\n",
    "    return lpp"
   ]
  },
  {
   "cell_type": "code",
   "execution_count": 15,
   "metadata": {},
   "outputs": [],
   "source": [
    "def state_update(obs,log_p):\n",
    "    return np.log(obs) + log_p"
   ]
  },
  {
   "cell_type": "code",
   "execution_count": 16,
   "metadata": {},
   "outputs": [],
   "source": [
    "def state_postdict(A,log_p):\n",
    "    mx = np.max(log_p)\n",
    "    p = np.exp(log_p - mx);\n",
    "    lpp = np.log(A.T.dot(p)) + mx;\n",
    "    return lpp"
   ]
  },
  {
   "cell_type": "code",
   "execution_count": 17,
   "metadata": {},
   "outputs": [],
   "source": [
    "def forward_backward(N,K,w,epsilon,Trans_matrix,Obsmatrix,prior):\n",
    "    log_alpha=np.zeros((N,K))\n",
    "    log_alpha_predict=np.zeros((N,K))\n",
    "    \n",
    "    for j in range(0,K):\n",
    "        if j==0:\n",
    "            log_alpha_predict[:,j]=np.log(prior)\n",
    "        else:\n",
    "            log_alpha_predict[:,j]=state_predict(Trans_matrix,log_alpha[:,j-1])\n",
    "        \n",
    "        y,state=hmm_generate_data(K,N,epsilon,w,Trans_matrix,Obsmatrix,prior)\n",
    "        log_alpha[:,j]=state_update(Obsmatrix[int(y[j]),:],log_alpha_predict[:,j])\n",
    "        \n",
    "    \n",
    "    log_beta=np.zeros((N,K))\n",
    "    log_beta_postdict=np.zeros((N,K))\n",
    "    for i in range(K-1,-1,-1):\n",
    "        if i==K-1 :\n",
    "            log_beta_postdict[:,i] = np.zeros(N)\n",
    "        else:\n",
    "            log_beta_postdict[:,i] = state_postdict(Trans_matrix, log_beta[:, i+1])\n",
    "        log_beta[:,i]=state_update(Obsmatrix[int(y[i]),:],log_beta_postdict[:,i])\n",
    "    \n",
    "    return log_alpha,log_alpha_predict,log_beta,log_beta_postdict\n",
    "        \n"
   ]
  },
  {
   "cell_type": "code",
   "execution_count": 18,
   "metadata": {},
   "outputs": [],
   "source": [
    "log_alpha,log_alpha_predict,log_beta,log_beta_postdict=forward_backward(N=50,K=100,w=0.5,epsilon=0.3,Trans_matrix=Trans_matrix,Obsmatrix=Obsmatrix,prior=prior)"
   ]
  },
  {
   "cell_type": "markdown",
   "metadata": {},
   "source": [
    "#### Calcul de l'expression de la question 3.a:"
   ]
  },
  {
   "cell_type": "markdown",
   "metadata": {},
   "source": [
    "The expression of the probability : <br>\n",
    "$P(X_k|Y_{1:k})= \\frac{P(X_k,Y_{1:k})}{P(Y_{1:k})}=\\frac{P(X_k,Y_{1:k})}{\\sum\\nolimits_{X_k}P(X_k,Y_{1:k})}=\\frac{\\alpha_{k,k}(X_k)}{\\sum\\limits_{i=1}^k \\alpha_{k,k}(X_k) } $</br>"
   ]
  },
  {
   "cell_type": "code",
   "execution_count": 19,
   "metadata": {},
   "outputs": [],
   "source": [
    "def Q_3_a(k,log_alpha):\n",
    "    alpha =np.exp(log_alpha)\n",
    "    return alpha[:,k-1]/np.sum(alpha[:,k-1])\n"
   ]
  },
  {
   "cell_type": "code",
   "execution_count": 20,
   "metadata": {},
   "outputs": [],
   "source": [
    "## Let's take the current position k = 20 as an example : \n",
    "k=20\n",
    "q3a=Q_3_a(k,log_alpha)"
   ]
  },
  {
   "cell_type": "code",
   "execution_count": 21,
   "metadata": {},
   "outputs": [
    {
     "name": "stdout",
     "output_type": "stream",
     "text": [
      "Question 3.a : The distribution of the robot's current position ,equal to 20 ,given the observations so far is : \n",
      " [1.48565493e-04 4.85249533e-05 2.11999971e-05 3.30187828e-05\n",
      " 4.71664161e-05 4.85654322e-05 3.67915884e-05 4.01369658e-03\n",
      " 1.88663709e-02 4.05212956e-02 5.23151508e-02 4.51468057e-02\n",
      " 2.74027073e-02 1.19914832e-02 7.68334721e-01 8.93598548e-04\n",
      " 8.78125830e-03 3.72450510e-03 1.08367580e-05 3.60670603e-04\n",
      " 7.65483889e-04 7.24630020e-04 4.55660061e-04 2.45618759e-04\n",
      " 2.80600484e-04 5.45101726e-04 6.65543452e-04 4.74680212e-04\n",
      " 2.05874827e-04 5.45682148e-05 8.77336635e-06 2.06423976e-06\n",
      " 3.53721522e-06 5.88919940e-06 6.94351565e-06 6.21772098e-06\n",
      " 6.23565115e-06 1.40473091e-05 3.78302591e-05 7.58531437e-05\n",
      " 1.10625497e-04 1.21410055e-04 1.03116957e-04 4.70554385e-03\n",
      " 4.01278266e-03 1.68037346e-03 1.05151187e-03 4.53731951e-04\n",
      " 2.00205549e-04 2.28611542e-04]\n"
     ]
    }
   ],
   "source": [
    "print(\"Question 3.a : The distribution of the robot's current position ,equal to \"+str(k)+\" ,given the observations so far is : \\n\",q3a)"
   ]
  },
  {
   "cell_type": "markdown",
   "metadata": {},
   "source": [
    "#### Calcul de l'expression de la question 3.b:"
   ]
  },
  {
   "cell_type": "markdown",
   "metadata": {},
   "source": [
    "**3.b** The Distribution of the robot's position at time step k given all the observations is given by\n",
    "\n",
    "</br> \n",
    "\n",
    "$P(X_k|Y_{1:K})= \\frac{P(X_k,Y_{1:K})}{P(Y_{1:K})}=\\frac{P(X_k,Y_{1:k}).P(Y_{k+1:K}|X_k,Y_{1:k})}{P(Y_{1:K})} $\n",
    "\n",
    "but we know that $y_{k+1:K} \\perp  y_{1:k} | X_{k}$ so : <br>\n",
    "\n",
    "$P(X_k|Y_{1:K})=\\frac{P(X_k,Y_{1:k}).P(Y_{k+1:K}|X_k)}{P(Y_{1:K})}=\\frac{\\gamma_{k,k}(X_k)}{\\sum\\nolimits_{X_k} \\gamma_{k,k}(X_k) }$\n",
    "\n",
    "</br>\n",
    "\n",
    "With:\n",
    "$\\gamma_{k,k}(X_k)=\\alpha_{k/k}(X_k).\\beta_{k/k+1}(X_k) $"
   ]
  },
  {
   "cell_type": "code",
   "execution_count": 22,
   "metadata": {},
   "outputs": [],
   "source": [
    "def Q_3_b(k,log_alpha,log_beta_postdict):\n",
    "    gamma=np.exp(log_alpha+log_beta_postdict)\n",
    "    return gamma[:,k-1]/np.sum(gamma[:,k-1])"
   ]
  },
  {
   "cell_type": "code",
   "execution_count": 23,
   "metadata": {},
   "outputs": [],
   "source": [
    "## Let's take the current position k = 20 as an example\n",
    "k=20\n",
    "q3b=Q_3_b(k,log_alpha,log_beta_postdict)"
   ]
  },
  {
   "cell_type": "code",
   "execution_count": 24,
   "metadata": {},
   "outputs": [
    {
     "name": "stdout",
     "output_type": "stream",
     "text": [
      "Question 3.b : The distribution of the robot's position at time step k given all the observations is : \n",
      " [5.80710260e-075 8.96898136e-073 3.33086946e-068 2.54460312e-065\n",
      " 6.29276155e-058 3.44711102e-055 2.25960325e-050 1.09227558e-046\n",
      " 2.33267299e-044 2.49216366e-039 3.16615864e-036 4.95729682e-031\n",
      " 5.71502879e-026 1.24277354e-023 3.72279570e-019 3.95252461e-019\n",
      " 1.85244176e-015 3.66817513e-013 9.81443241e-011 3.10965780e-004\n",
      " 3.12592827e-001 6.87071498e-001 2.47083067e-005 7.61562617e-010\n",
      " 6.18770488e-019 3.56663339e-025 4.05402571e-027 3.45466044e-028\n",
      " 2.10272116e-029 3.24684384e-032 3.17863926e-035 7.82523345e-038\n",
      " 5.37536826e-051 9.08554457e-053 6.12124224e-057 3.85981512e-068\n",
      " 2.75304672e-077 2.17308608e-090 9.53934585e-095 9.75333103e-096\n",
      " 1.31184449e-097 1.10875556e-101 4.49022983e-099 9.57742059e-095\n",
      " 3.81179261e-092 1.35204056e-089 4.31171381e-087 8.75563175e-085\n",
      " 1.80387701e-082 1.62421371e-077]\n"
     ]
    }
   ],
   "source": [
    "print(\"Question 3.b : The distribution of the robot's position at time step k given all the observations is : \\n\",q3b)\n"
   ]
  },
  {
   "cell_type": "markdown",
   "metadata": {},
   "source": [
    "#### Calcul de l'expression de la question 3.f:"
   ]
  },
  {
   "cell_type": "markdown",
   "metadata": {},
   "source": [
    "$\\arg\\max_{X_k} P(X_k|Y_{1:k})$"
   ]
  },
  {
   "cell_type": "code",
   "execution_count": 26,
   "metadata": {},
   "outputs": [],
   "source": [
    "def Q_3_f(k,log_alpha):\n",
    "    q3a=Q_3_a(k,log_alpha)\n",
    "    return np.argmax(q3a)"
   ]
  },
  {
   "cell_type": "code",
   "execution_count": 27,
   "metadata": {},
   "outputs": [],
   "source": [
    "q3f=Q_3_f(k,log_alpha)"
   ]
  },
  {
   "cell_type": "code",
   "execution_count": 28,
   "metadata": {},
   "outputs": [
    {
     "name": "stdout",
     "output_type": "stream",
     "text": [
      "Question 3.f: The most likely current position of the robot given the observations so far is : \n",
      " 14\n"
     ]
    }
   ],
   "source": [
    "print(\"Question 3.f: The most likely current position of the robot given the observations so far is : \\n\",q3f)"
   ]
  },
  {
   "cell_type": "markdown",
   "metadata": {},
   "source": [
    "## Question 6 :"
   ]
  },
  {
   "cell_type": "markdown",
   "metadata": {},
   "source": [
    "assuming now that at each step the robot can be kidnapped with probability $k$ the transition state model become:\n",
    "$$A_{kidnapped}=(1-k)A+k\n",
    "\\mathbb{1_N}$$ \n",
    "\n",
    "with : $$\\mathbb{1_n}= \\frac{1}{N} \\quad\n",
    "\\begin{bmatrix} \n",
    "1 & 1 & . & . & . & . & 1 \\\\\n",
    "1 & 1 & . & . & . & . & 1 \\\\\n",
    "1 & 1 & . & . & . & . & 1 \\\\\n",
    ". & . &.&.&.&.&.\\\\\n",
    ". & . &.&.&.&.&.\\\\\n",
    "1 & 1 &.&.& .& .&1\n",
    "\\end{bmatrix}$$\n",
    "\n",
    "So:\n",
    "\n",
    "$$\\quad\n",
    "A_{kidnapped}=\n",
    "\\begin{bmatrix} \n",
    "(1-k).\\epsilon+\\frac{k}{N} & (1-k).(1-\\epsilon)+\\frac{k}{N} & \\frac{k}{N} & . & . & . & (1-k)(1-\\epsilon)+\\frac{k}{N} \\\\\n",
    " \\frac{k}{N} & (1-k).\\epsilon+\\frac{k}{N} & (1-k).(1-\\epsilon)+\\frac{k}{N} & . & . & \\frac{k}{N} \\\\\n",
    ". & . &.&.&.&.&.\\\\\n",
    ". & . &.&.&.&.&.\\\\\n",
    ". & . &.&.&.&.&.\\\\\n",
    "(1-k).(1-\\epsilon)+\\frac{k}{N} & . &.&.&\\frac{k}{N}& \\frac{k}{N} &(1-k).\\epsilon+\\frac{k}{N}\n",
    "\\end{bmatrix}$$a\n",
    "Concerning the matrix of observed state model, it is still the same as the previous case. that's means that :\n",
    "\n",
    "$$ O_{kidnapped}= \\quad\n",
    "\\begin{bmatrix} \n",
    "\\omega + \\frac{(1-\\omega)}{N}& \\frac{(1-\\omega)}{N} & . & . & . & . & \\frac{(1-\\omega)}{N} \\\\\n",
    "\\frac{(1-\\omega)}{N}& \\omega +\\frac{(1-\\omega)}{N}& \\frac{(1-\\omega)}{N} & . & . & . & \\frac{(1-\\omega)}{N} \\\\\n",
    "\\frac{(1-\\omega)}{N}& \\frac{(1-\\omega)}{N} & \\omega+\\frac{(1-\\omega)}{N} & \\frac{(1-\\omega)}{N}& . & . & \\frac{(1-\\omega)}{N} \\\\\n",
    "\\frac{(1-\\omega)}{N} & . &\\frac{(1-\\omega)}{N} & \\omega +\\frac{(1-\\omega)}{N} & \\frac{(1-\\omega)}{N} & . & \\frac{(1-\\omega)}{N}\\\\\n",
    ". & . &.&.&.&.&.\\\\\n",
    ". & . &.&.&.&.&.\\\\\n",
    ". & . &.&.&.&.&.\\\\\n",
    "\\frac{(1-\\omega)}{N}& . &.&.&\\frac{(1-\\omega)}{N}&\\frac{(1-\\omega)}{N}&\\omega+\\frac{(1-\\omega)}{N}\n",
    "\\end{bmatrix}$$\n"
   ]
  },
  {
   "cell_type": "markdown",
   "metadata": {},
   "source": [
    "Here for this question we can reuse the code above. we just have to regenerate the transition matrix and the observation matrix with taking into acounting the fact that at each step the robot can be kidnapped with probability $k$."
   ]
  },
  {
   "cell_type": "code",
   "execution_count": 29,
   "metadata": {},
   "outputs": [],
   "source": [
    "def generate_matrix_kinnaped(N,epsilon=0.5,k=0.1,w=0.3):\n",
    "    Transition=generate_matrix(N,epsilon,w)[0]\n",
    "    Transition_kidnapped=(1-k)*Transition+(k)/N*np.ones((N,N))\n",
    "    ObsMatrix_kidnapped=w*np.eye(N)+(1-w)/N*np.ones((N,N))\n",
    "    prior_knp=np.ones(N)/N\n",
    "    return Transition_kidnapped,ObsMatrix_kidnapped,prior_knp\n"
   ]
  },
  {
   "cell_type": "code",
   "execution_count": 30,
   "metadata": {},
   "outputs": [],
   "source": [
    "Trans_matrix_knp,Obsmatrix_knp,prior_knp=generate_matrix_kinnaped(N=N,epsilon=epsilon,k=0.1,w=w)"
   ]
  },
  {
   "cell_type": "code",
   "execution_count": 31,
   "metadata": {},
   "outputs": [],
   "source": [
    "obs_knp,state_knp=hmm_generate_data(K,N,epsilon,w,Trans_matrix_knp,Obsmatrix_knp,prior_knp)"
   ]
  },
  {
   "cell_type": "code",
   "execution_count": 32,
   "metadata": {},
   "outputs": [],
   "source": [
    "log_alpha_knp,log_alpha_predict_knp,log_beta_knp,log_beta_postdict_knp=forward_backward(N,K,w,epsilon,Trans_matrix_knp,Obsmatrix_knp,prior_knp)\n",
    "q3a_knp=Q_3_a(3,log_alpha_knp)\n",
    "q3b_knp=Q_3_b(3,log_alpha,log_beta_postdict_knp)\n",
    "q3f_knp=Q_3_f(3,log_alpha_knp)"
   ]
  },
  {
   "cell_type": "code",
   "execution_count": 33,
   "metadata": {},
   "outputs": [
    {
     "data": {
      "image/png": "[encoded data removed]",
      "text/plain": [
       "<Figure size 1080x792 with 1 Axes>"
      ]
     },
     "metadata": {
      "needs_background": "light"
     },
     "output_type": "display_data"
    }
   ],
   "source": [
    "fig = plt.figure(1, figsize=(15, 11))\n",
    "plt.plot(np.arange(100),obs_knp,'r--',label='Observation')\n",
    "plt.plot(np.arange(100),state_knp,'bo',label='State')\n",
    "plt.legend()\n",
    "plt.xlabel(\"Time\")\n",
    "plt.ylabel(\"Position\")\n",
    "plt.legend()\n",
    "plt.show()"
   ]
  },
  {
   "cell_type": "markdown",
   "metadata": {},
   "source": [
    "**Observation:**<br>\n",
    "here we can see that the robot can be kidnapped from the different gaps in the graph above."
   ]
  }
 ],
 "metadata": {
  "kernelspec": {
   "display_name": "Python [default]",
   "language": "python",
   "name": "python3"
  },
  "language_info": {
   "codemirror_mode": {
    "name": "ipython",
    "version": 3
   },
   "file_extension": ".py",
   "mimetype": "text/x-python",
   "name": "python",
   "nbconvert_exporter": "python",
   "pygments_lexer": "ipython3",
   "version": "3.6.6"
  },
  "latex_envs": {
   "LaTeX_envs_menu_present": true,
   "autoclose": false,
   "autocomplete": true,
   "bibliofile": "biblio.bib",
   "cite_by": "apalike",
   "current_citInitial": 1,
   "eqLabelWithNumbers": true,
   "eqNumInitial": 1,
   "hotkeys": {
    "equation": "Ctrl-E",
    "itemize": "Ctrl-I"
   },
   "labels_anchors": false,
   "latex_user_defs": false,
   "report_style_numbering": false,
   "user_envs_cfg": false
  },
  "nbTranslate": {
   "displayLangs": [
    "en",
    "fr"
   ],
   "hotkey": "alt-t",
   "langInMainMenu": true,
   "sourceLang": "fr",
   "targetLang": "en",
   "useGoogleTranslate": true
  },
  "varInspector": {
   "cols": {
    "lenName": 16,
    "lenType": 16,
    "lenVar": 40
   },
   "kernels_config": {
    "python": {
     "delete_cmd_postfix": "",
     "delete_cmd_prefix": "del ",
     "library": "var_list.py",
     "varRefreshCmd": "print(var_dic_list())"
    },
    "r": {
     "delete_cmd_postfix": ") ",
     "delete_cmd_prefix": "rm(",
     "library": "var_list.r",
     "varRefreshCmd": "cat(var_dic_list()) "
    }
   },
   "types_to_exclude": [
    "module",
    "function",
    "builtin_function_or_method",
    "instance",
    "_Feature"
   ],
   "window_display": false
  }
 },
 "nbformat": 4,
 "nbformat_minor": 2
}
